{
 "cells": [
  {
   "cell_type": "code",
   "execution_count": 1,
   "id": "92403010-d36f-41e6-a336-63c933318a0a",
   "metadata": {},
   "outputs": [],
   "source": [
    "from myagents import *"
   ]
  },
  {
   "cell_type": "code",
   "execution_count": 2,
   "id": "efce0cad-7b00-41f1-919f-5a1e3c3a0dbb",
   "metadata": {},
   "outputs": [],
   "source": [
    "agent = TableDrivenVacuumAgent()"
   ]
  },
  {
   "cell_type": "code",
   "execution_count": 3,
   "id": "83653a86-83a4-4d1b-b37a-f0bbd479edb6",
   "metadata": {},
   "outputs": [],
   "source": [
    "environment = TrivialVacuumEnvironment()"
   ]
  },
  {
   "cell_type": "code",
   "execution_count": 4,
   "id": "10a60816-b197-4731-a0c8-f31cf7a2c309",
   "metadata": {},
   "outputs": [],
   "source": [
    "environment.add_thing(agent)"
   ]
  },
  {
   "cell_type": "code",
   "execution_count": 7,
   "id": "2b9c994b-4a6c-4b78-b0cd-9c5b5d7cc9fe",
   "metadata": {},
   "outputs": [
    {
     "name": "stdout",
     "output_type": "stream",
     "text": [
      "{(0, 0): 'Clean', (1, 0): 'Dirty'}\n"
     ]
    }
   ],
   "source": [
    "print(environment.status)"
   ]
  },
  {
   "cell_type": "code",
   "execution_count": 6,
   "id": "05d16ecf-dbb2-48ee-947c-ed55fe7c35c2",
   "metadata": {},
   "outputs": [
    {
     "name": "stdout",
     "output_type": "stream",
     "text": [
      "(1, 0)\n"
     ]
    }
   ],
   "source": [
    "print(agent.location)"
   ]
  },
  {
   "cell_type": "code",
   "execution_count": 8,
   "id": "4085aadd-2e75-486d-bc54-fc85fd9e9de8",
   "metadata": {},
   "outputs": [],
   "source": [
    "environment.run(steps=1)"
   ]
  },
  {
   "cell_type": "code",
   "execution_count": 9,
   "id": "a9cc7808-4e70-428c-9c40-2237a9aa48ac",
   "metadata": {},
   "outputs": [
    {
     "name": "stdout",
     "output_type": "stream",
     "text": [
      "{(0, 0): 'Clean', (1, 0): 'Clean'}\n"
     ]
    }
   ],
   "source": [
    "print(environment.status)"
   ]
  },
  {
   "cell_type": "code",
   "execution_count": 10,
   "id": "98ae8985-ddcc-4861-893e-7de62c1c28b6",
   "metadata": {},
   "outputs": [
    {
     "name": "stdout",
     "output_type": "stream",
     "text": [
      "(1, 0)\n"
     ]
    }
   ],
   "source": [
    "print(agent.location)"
   ]
  },
  {
   "cell_type": "code",
   "execution_count": 11,
   "id": "65dcbeae-07c8-4c26-b00a-4844b39dfe2b",
   "metadata": {},
   "outputs": [
    {
     "name": "stdout",
     "output_type": "stream",
     "text": [
      "10\n"
     ]
    }
   ],
   "source": [
    "print(agent.performance)"
   ]
  }
 ],
 "metadata": {
  "kernelspec": {
   "display_name": "Python 3 (ipykernel)",
   "language": "python",
   "name": "python3"
  },
  "language_info": {
   "codemirror_mode": {
    "name": "ipython",
    "version": 3
   },
   "file_extension": ".py",
   "mimetype": "text/x-python",
   "name": "python",
   "nbconvert_exporter": "python",
   "pygments_lexer": "ipython3",
   "version": "3.9.7"
  }
 },
 "nbformat": 4,
 "nbformat_minor": 5
}
